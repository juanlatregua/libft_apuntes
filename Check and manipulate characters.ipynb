{
 "cells": [
  {
   "cell_type": "markdown",
   "id": "0543ae53-a462-4eea-8623-d8b019e284e4",
   "metadata": {},
   "source": [
    "Check and manipulate characters\n",
    "\n",
    "#### Check and manipulate characters:\n",
    "\n",
    "- [x] `ft_isalpha`\n",
    "- [x] `ft_isdigit`\n",
    "- [x] `ft_isalnum`\n",
    "- [x] `ft_isascii`\n",
    "- [x] `ft_toupper`\n",
    "- [x] `ft_tolower`"
   ]
  },
  {
   "cell_type": "markdown",
   "id": "31e4ea5b-898b-4fd4-b61d-9010ed8419f8",
   "metadata": {},
   "source": [
    "Parece que estás mencionando funciones de la biblioteca estándar de C que han sido implementadas en tu biblioteca personal (`ft_isalpha`, `ft_isdigit`, `ft_isalnum`, `ft_isascii`, `ft_toupper`, `ft_tolower`). Estas funciones son parte de la biblioteca estándar de C y se utilizan para verificar y manipular caracteres.\n",
    "\n",
    "- **`ft_isalpha`:** Esta función verifica si un carácter es una letra del alfabeto (mayúscula o minúscula) y devuelve un valor distinto de cero si es el caso, de lo contrario, devuelve cero.\n",
    "\n",
    "- **`ft_isdigit`:** Esta función verifica si un carácter es un dígito (0-9) y devuelve un valor distinto de cero si es el caso, de lo contrario, devuelve cero.\n",
    "\n",
    "- **`ft_isalnum`:** Esta función verifica si un carácter es una letra (mayúscula o minúscula) o un dígito (0-9) y devuelve un valor distinto de cero si es el caso, de lo contrario, devuelve cero.\n",
    "\n",
    "- **`ft_isascii`:** Esta función verifica si un carácter es un valor ASCII válido (entre 0 y 127) y devuelve un valor distinto de cero si es el caso, de lo contrario, devuelve cero.\n",
    "\n",
    "- **`ft_toupper`:** Esta función convierte un carácter en minúscula a mayúscula, si es una letra minúscula. Si el carácter no es una letra minúscula, devuelve el mismo carácter sin cambios.\n",
    "\n",
    "- **`ft_tolower`:** Esta función convierte un carácter en mayúscula a minúscula, si es una letra mayúscula. Si el carácter no es una letra mayúscula, devuelve el mismo carácter sin cambios.\n",
    "\n",
    "Estas funciones son útiles para realizar operaciones y validaciones específicas sobre caracteres en un programa en C. Por ejemplo, pueden utilizarse para verificar si un carácter ingresado por el usuario es una letra o un dígito, o para convertir un texto en mayúsculas o minúsculas."
   ]
  }
 ],
 "metadata": {
  "kernelspec": {
   "display_name": "C",
   "language": "c",
   "name": "c"
  },
  "language_info": {
   "file_extension": ".c",
   "mimetype": "text/plain",
   "name": "c"
  }
 },
 "nbformat": 4,
 "nbformat_minor": 5
}
