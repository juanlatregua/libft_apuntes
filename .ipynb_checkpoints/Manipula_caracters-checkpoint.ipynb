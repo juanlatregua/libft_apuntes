{
 "cells": [
  {
   "cell_type": "markdown",
   "id": "f4c03907-97eb-425f-bee4-7c8c3cb9e429",
   "metadata": {},
   "source": [
    "- [x] `ft_isalpha`\n",
    "- [x] `ft_isdigit`\n",
    "- [x] `ft_isalnum`\n",
    "- [x] `ft_isascii`\n",
    "- [x] `ft_toupper`\n",
    "- [x] `ft_tolower`"
   ]
  },
  {
   "cell_type": "markdown",
   "id": "78804a2b-5b26-4022-9f4a-5384605295dc",
   "metadata": {},
   "source": []
  },
  {
   "cell_type": "markdown",
   "id": "9f3ce0e2-3708-4503-a7a7-e5bd147f6275",
   "metadata": {},
   "source": [
    "La función `ft_isalpha` dentro de un archivo fuente de tu biblioteca `libft`. Esta función comprueba si el carácter pasado como argumento es una letra alfabética, es decir, si es una letra mayúscula o minúscula del alfabeto inglés.\n",
    "\n",
    " descripción de lo que hace el código:\n",
    "\n",
    "1. **`#include \"libft.h\"`**: Incluye el archivo de encabezado `libft.h` que contiene las declaraciones de las funciones de tu biblioteca.\n",
    "\n",
    "2. **`static int ft_toupper(int c)`**: Esta es una función auxiliar que verifica si el carácter `c` es una letra mayúscula ('A' a 'Z'). La palabra clave `static` limita el alcance de esta función solo al archivo fuente actual, lo que significa que no se puede acceder a esta función desde otros archivos que incluyan `libft.h`.\n",
    "\n",
    "3. **`static int ft_tolower(int c)`**: Similar a la función anterior, esta verifica si el carácter `c` es una letra minúscula ('a' a 'z').\n",
    "\n",
    "4. **`int ft_isalpha(int c)`**: Esta es la función `ft_isalpha` que se exporta en tu biblioteca. Utiliza las funciones auxiliares `ft_mai` y `ft_min` para verificar si el carácter `c` es una letra alfabética (mayúscula o minúscula). Retorna 1 si `c` es una letra alfabética y 0 en caso contrario.\n",
    "\n",
    "En resumen, `ft_isalpha` es una función que verifica si un carácter dado es una letra del alfabeto inglés (mayúscula o minúscula) y devuelve 1 si es verdadero y 0 si es falso. Ten en cuenta que esta implementación está hecha para el alfabeto inglés; para otros alfabetos, se pueden requerir ajustes en la implementación."
   ]
  },
  {
   "cell_type": "code",
   "execution_count": null,
   "id": "8cea3955-38ea-44b2-bc46-5f18c2c65382",
   "metadata": {},
   "outputs": [],
   "source": [
    "\n",
    "#include \"libft.h\"\n",
    "\n",
    "static int\tft_toupper(int c)\n",
    "{\n",
    "\treturn ('A' <= c && c <= 'Z');\n",
    "}\n",
    "\n",
    "static int\tft_tolower(int c)\n",
    "{\n",
    "\treturn ('a' <= c && c <= 'z');\n",
    "}\n",
    "\n",
    "int\tft_isalpha(int c)\n",
    "{\n",
    "\treturn (ft_toupper(c) || ft_tolower(c));\n",
    "}\n",
    "\n",
    "/*int\tmain()\n",
    "{\n",
    "\tft_putnbr_fd(ft_isalpha('a'), 1);\n",
    "\tft_putchar_fd('\\n', 1);\n",
    "\tft_putnbr_fd(ft_isalpha('U'), 1);\n",
    "\tft_putchar_fd('\\n', 1);\n",
    "\tft_putnbr_fd(ft_isalpha('5'), 1);\n",
    "\tft_putchar_fd('\\n', 1);\n",
    "\tft_putnbr_fd(ft_isalpha('\\t'), 1);\n",
    "\tft_putchar_fd('\\n', 1);\n",
    "}*/"
   ]
  },
  {
   "cell_type": "markdown",
   "id": "b3b4a1ef-6e77-40d2-99d1-19d4ce460431",
   "metadata": {},
   "source": [
    "Sí, en `ft_putnbr_fd(ft_isalpha('a'), 1);`, se pasa el resultado de la función `ft_isalpha('a')` como un argumento a la función `ft_putnbr_fd`. en detalle:\n",
    "\n",
    "1. **`ft_isalpha('a')`:**\n",
    "   - Aquí, `ft_isalpha` es una función que toma un carácter como argumento y devuelve `1` si el carácter es una letra (mayúscula o minúscula) y `0` si no lo es. En este caso, `'a'` es un carácter que representa la letra minúscula 'a'. `ft_isalpha('a')` devolverá `1` porque 'a' es una letra.\n",
    "\n",
    "2. **`ft_putnbr_fd(ft_isalpha('a'), 1);`:**\n",
    "   - En esta expresión, el resultado de `ft_isalpha('a')`, que es `1`, se pasa como primer argumento a la función `ft_putnbr_fd`. Entonces, la llamada se convierte en `ft_putnbr_fd(1, 1);`.\n",
    "\n",
    "3. **`ft_putnbr_fd(1, 1);`:**\n",
    "   - Ahora, `ft_putnbr_fd` es otra función que imprime un número en el descriptor de archivo especificado. En este caso, se imprimirá el número `1` en el descriptor de archivo `1`, que es la salida estándar (`stdout`).\n",
    "\n",
    "En resumen, `ft_putnbr_fd(ft_isalpha('a'), 1);` está utilizando el resultado de `ft_isalpha('a')` como un argumento para `ft_putnbr_fd`, lo que significa que el número `1` se imprimirá en la consola.\n",
    "\n",
    "Este tipo de construcción es común en programación para pasar el resultado de una función como argumento a otra función, permitiendo así encadenar operaciones o utilizar el resultado de una función en otro contexto.\n",
    "\n",
    "Pasar el resultado de una función como argumento a otra función es una práctica común en programación por varias razones:\n",
    "\n",
    "1. **Composición de Funciones:** Permite componer varias funciones para realizar tareas complejas. Puedes dividir una tarea grande en tareas más pequeñas y utilizar funciones especializadas para cada una de esas tareas.\n",
    "\n",
    "2. **Reusabilidad del Código:** Al dividir el código en funciones más pequeñas y especializadas, estas funciones se vuelven más reutilizables. Puedes utilizar funciones existentes en diferentes partes de tu programa sin tener que reescribir el mismo código múltiples veces.\n",
    "\n",
    "3. **Claridad y Legibilidad:** Al utilizar funciones pequeñas y bien nombradas, el código se vuelve más claro y fácil de entender. Cada función se centra en una tarea específica, lo que hace que el flujo general del programa sea más legible.\n",
    "\n",
    "4. **Facilita el Mantenimiento:** Cuando el código está dividido en funciones modulares, es más fácil realizar cambios o mejoras en una parte específica del programa sin afectar otras partes del código. Esto facilita el mantenimiento a largo plazo del software.\n",
    "\n",
    "5. **Mejora la Depuración:** Al dividir el código en funciones más pequeñas y manejables, es más fácil identificar y corregir errores. Puedes concentrarte en una función específica para encontrar y solucionar problemas.\n",
    "\n",
    "6. **Flexibilidad:** Al pasar el resultado de una función como argumento a otra función, puedes adaptar el comportamiento del programa según el resultado de las operaciones previas. Esto permite escribir código más dinámico y adaptable.\n",
    "\n",
    "En el caso específico de `ft_putnbr_fd(ft_isalpha('a'), 1);`, se está aprovechando el resultado de `ft_isalpha('a')` para realizar una acción específica: imprimir el valor (`1` o `0`) en la salida estándar. Esta técnica de pasar resultados de funciones como argumentos permite una manipulación flexible de los datos y la lógica del programa.\n",
    "\n"
   ]
  },
  {
   "cell_type": "markdown",
   "id": "3fa59e31-4eab-488d-9054-0e6a41bfa8e5",
   "metadata": {},
   "source": [
    "el uso de `ft_putnbr_fd` y `ft_putchar_fd`.\n",
    "\n",
    "En programación, trabajar con archivos y flujos de entrada/salida es una parte fundamental. En sistemas Unix, todos los dispositivos de entrada/salida, incluyendo archivos, dispositivos, y las entradas y salidas estándar (`stdin`, `stdout`, `stderr`), están representados por file descriptors. Estos son simplemente números enteros que el sistema operativo utiliza para acceder a estos dispositivos.\n",
    "\n",
    "Aquí hay algunas situaciones comunes donde escribir en un archivo o en un descriptor de archivo específico puede ser útil:\n",
    "\n",
    "### 1. **Redirección de Entrada/Salida:**\n",
    "Puedes redirigir la entrada y salida de un programa en Unix/Linux. Por ejemplo, `./mi_programa < input.txt > output.txt` redirige la entrada estándar desde `input.txt` y la salida estándar a `output.txt`. Esto es especialmente útil en scripts de shell y automatización.\n",
    "\n",
    "### 2. **Guardar Resultados en un Archivo:**\n",
    "Cuando estás escribiendo un programa que realiza cálculos o procesa datos, a veces es útil guardar los resultados en un archivo en lugar de mostrarlos en la consola. Usar un descriptor de archivo específico te permite escribir directamente en ese archivo.\n",
    "\n",
    "### 3. **Logging:**\n",
    "En aplicaciones complejas, especialmente en servidores y aplicaciones en red, a menudo es útil escribir registros (logs) en archivos. Puedes abrir un archivo de log y escribir mensajes de registro directamente en él.\n",
    "\n",
    "### 4. **Comunicación con Otros Programas:**\n",
    "Los programas a menudo se comunican entre sí a través de tuberías (pipes) y sockets. Puedes usar descriptores de archivo para escribir y leer datos de estos flujos de comunicación.\n",
    "\n",
    "### 5. **Controlar Errores y Salida Estándar:**\n",
    "Separar la salida estándar y la salida de errores es una práctica común. Puedes redirigir los errores estándar (`stderr`) a un archivo mientras mantienes la salida estándar (`stdout`) en la consola.\n",
    "\n",
    "El uso de funciones como `ft_putnbr_fd` y `ft_putchar_fd` (y sus contrapartes estándar en C como `fprintf`, `fwrite`, etc.) te permite especificar un descriptor de archivo al que escribir. Esto te da control sobre dónde se escriben los datos, lo que es fundamental en situaciones como las que se han descrito anteriormente. Es una forma de tener un control más granular sobre la salida de tu programa y puede ser especialmente útil en situaciones más complejas o específicas."
   ]
  },
  {
   "cell_type": "markdown",
   "id": "5d329090-d0ed-4fd3-afa6-3f3bbef00f42",
   "metadata": {},
   "source": [
    "Pasar el resultado de una función como argumento a otra función es una práctica común en programación por varias razones:\n",
    "\n",
    "1. **Composición de Funciones:** Permite componer varias funciones para realizar tareas complejas. Puedes dividir una tarea grande en tareas más pequeñas y utilizar funciones especializadas para cada una de esas tareas.\n",
    "\n",
    "2. **Reusabilidad del Código:** Al dividir el código en funciones más pequeñas y especializadas, estas funciones se vuelven más reutilizables. Puedes utilizar funciones existentes en diferentes partes de tu programa sin tener que reescribir el mismo código múltiples veces.\n",
    "\n",
    "3. **Claridad y Legibilidad:** Al utilizar funciones pequeñas y bien nombradas, el código se vuelve más claro y fácil de entender. Cada función se centra en una tarea específica, lo que hace que el flujo general del programa sea más legible.\n",
    "\n",
    "4. **Facilita el Mantenimiento:** Cuando el código está dividido en funciones modulares, es más fácil realizar cambios o mejoras en una parte específica del programa sin afectar otras partes del código. Esto facilita el mantenimiento a largo plazo del software.\n",
    "\n",
    "5. **Mejora la Depuración:** Al dividir el código en funciones más pequeñas y manejables, es más fácil identificar y corregir errores. Puedes concentrarte en una función específica para encontrar y solucionar problemas.\n",
    "\n",
    "6. **Flexibilidad:** Al pasar el resultado de una función como argumento a otra función, puedes adaptar el comportamiento del programa según el resultado de las operaciones previas. Esto permite escribir código más dinámico y adaptable.\n",
    "\n",
    "En el caso específico de `ft_putnbr_fd(ft_isalpha('a'), 1);`, se está aprovechando el resultado de `ft_isalpha('a')` para realizar una acción específica: imprimir el valor (`1` o `0`) en la salida estándar. Esta técnica de pasar resultados de funciones como argumentos permite una manipulación flexible de los datos y la lógica del programa."
   ]
  },
  {
   "cell_type": "markdown",
   "id": "470141d5-2fb3-4154-b7ac-0b2298cb9f1a",
   "metadata": {},
   "source": [
    "En el contexto de la función `ft_isalpha` (y otras funciones de la familia `isalpha` en C), el valor de retorno `1` indica que el carácter dado es una letra del alfabeto (mayúscula o minúscula), mientras que el valor de retorno `0` indica que el carácter no es una letra del alfabeto.\n",
    "\n",
    "Esto se basa en la definición estándar de una letra del alfabeto según el estándar ASCII (y otros estándares de codificación de caracteres como Unicode):\n",
    "\n",
    "- **Mayúsculas:** En el conjunto de caracteres ASCII, las letras mayúsculas están codificadas del `65` al `90` (inclusive). Por lo tanto, si el valor del carácter está en este rango, la función `ft_isalpha` (o cualquier función `isalpha` en C) devolverá `1`.\n",
    "\n",
    "- **Minúsculas:** Las letras minúsculas están codificadas del `97` al `122` (inclusive) en el conjunto de caracteres ASCII. Si el valor del carácter está en este rango, la función `ft_isalpha` devolverá `1`.\n",
    "\n",
    "Cualquier otro valor que no esté dentro de estos rangos (como dígitos, símbolos, espacios en blanco, caracteres de control, etc.) hará que la función `ft_isalpha` devuelva `0`.\n",
    "\n",
    "En resumen, el valor `1` indica que el carácter es una letra del alfabeto, y el valor `0` indica que no lo es. Estos valores de retorno son útiles para que los programas realicen lógica basada en caracteres alfabéticos en situaciones como la clasificación y procesamiento de cadenas de texto."
   ]
  },
  {
   "cell_type": "markdown",
   "id": "a559076d-ae22-4ffa-ac37-8df1881e7b01",
   "metadata": {},
   "source": [
    "En los sistemas Unix y sistemas operativos tipo Unix (como Linux), hay tres flujos de entrada/salida estándar que están disponibles para los programas. Estos flujos de entrada/salida estándar son representados por los siguientes descriptores de archivo:\n",
    "\n",
    "1. **`stdin` (Descriptor de archivo 0):** `stdin` representa el flujo de entrada estándar y se utiliza para la entrada de datos en un programa. Por defecto, el programa lee datos desde `stdin` cuando está esperando una entrada del usuario. Normalmente, `stdin` está conectado al teclado, lo que significa que el programa espera que el usuario ingrese datos desde el teclado.\n",
    "\n",
    "2. **`stdout` (Descriptor de archivo 1):** `stdout` representa el flujo de salida estándar y se utiliza para la salida de datos desde un programa. Los datos escritos en `stdout` se muestran en la consola o terminal donde se está ejecutando el programa. Por lo tanto, cuando un programa imprime mensajes usando funciones como `printf` en C, estos mensajes se muestran en la salida estándar (`stdout`) por defecto.\n",
    "\n",
    "3. **`stderr` (Descriptor de archivo 2):** `stderr` representa el flujo de salida de error estándar y se utiliza para mostrar mensajes de error y diagnóstico. A diferencia de `stdout`, `stderr` se utiliza específicamente para mensajes de error para que puedan ser separados de la salida normal del programa. Los mensajes escritos en `stderr` también se muestran en la consola o terminal, pero los sistemas operativos y las herramientas a menudo permiten redirigir `stderr` a un archivo o a otro destino separado de `stdout`.\n",
    "\n",
    "En resumen:\n",
    "\n",
    "- **`stdin`** se usa para la entrada de datos.\n",
    "- **`stdout`** se usa para la salida normal de datos.\n",
    "- **`stderr`** se usa para la salida de mensajes de error.\n",
    "\n",
    "Estos flujos estándar proporcionan una interfaz común para que los programas interactúen con su entorno y permiten que los programas se conecten fácilmente a través de tuberías y redirecciones en los sistemas Unix."
   ]
  },
  {
   "cell_type": "code",
   "execution_count": null,
   "id": "d3f5f45b-ab55-4c62-ac9e-cfd8d626143a",
   "metadata": {},
   "outputs": [],
   "source": [
    "**FT_ISDIGIT**"
   ]
  },
  {
   "cell_type": "code",
   "execution_count": null,
   "id": "893dde5d-e18c-4a27-b460-ed7744f9754b",
   "metadata": {},
   "outputs": [],
   "source": [
    "#include \"libft.h\"\n",
    "\n",
    "int\tft_isdigit(int c)\n",
    "{\n",
    "\treturn ('0' <= c && c <= '9');\n",
    "}\n",
    "/*int main()\n",
    "{\n",
    "\tft_putnbr_fd(ft_isdigit('5'), 1);\n",
    "\tft_putchar_fd('\\n', 1);\n",
    "\tft_putnbr_fd(ft_isdigit('4'), 1);\n",
    "\tft_putchar_fd('\\n', 1);\n",
    "\tft_putnbr_fd(ft_isdigit('a'), 1);\n",
    "\tft_putchar_fd('\\n', 1);\n",
    "\tft_putnbr_fd(ft_isdigit('\\t'), 1);\n",
    "\tft_putchar_fd('\\n', 1);\n",
    "}*/"
   ]
  },
  {
   "cell_type": "code",
   "execution_count": null,
   "id": "057f66d7-a664-4314-8ff0-deab9f8a3da7",
   "metadata": {},
   "outputs": [],
   "source": [
    "**FT_ISPRINT.C"
   ]
  },
  {
   "cell_type": "code",
   "execution_count": null,
   "id": "8679a0df-8ca4-43e1-8a0b-69d51fbfab5f",
   "metadata": {},
   "outputs": [],
   "source": [
    "#include \"libft.h\"\n",
    "\n",
    "int\tft_isdigit(int c)\n",
    "{\n",
    "\treturn ('0' <= c && c <= '9');\n",
    "}\n",
    "/*int main()\n",
    "{\n",
    "\tft_putnbr_fd(ft_isdigit('5'), 1);\n",
    "\tft_putchar_fd('\\n', 1);\n",
    "\tft_putnbr_fd(ft_isdigit('4'), 1);\n",
    "\tft_putchar_fd('\\n', 1);\n",
    "\tft_putnbr_fd(ft_isdigit('a'), 1);\n",
    "\tft_putchar_fd('\\n', 1);\n",
    "\tft_putnbr_fd(ft_isdigit('\\t'), 1);\n",
    "\tft_putchar_fd('\\n', 1);\n",
    "}*/"
   ]
  },
  {
   "cell_type": "markdown",
   "id": "d1c07964-fb12-4d13-9c00-20a0a9730e9a",
   "metadata": {},
   "source": [
    "**FT_ILALNUM**"
   ]
  },
  {
   "cell_type": "code",
   "execution_count": null,
   "id": "4ad0e585-f547-46e4-9721-020fcbe7c9c2",
   "metadata": {},
   "outputs": [],
   "source": [
    "#include \"libft.h\"\n",
    "\n",
    "int\tft_isalnum(int c)\n",
    "{\n",
    "\treturn (ft_isalpha(c) || ft_isdigit(c));\n",
    "}\n",
    "\n",
    "/*int main()\n",
    "{\n",
    "\tft_putnbr_fd(ft_isalnum('1'), 1);\n",
    "\tft_putchar_fd('\\n', 1);\n",
    "\tft_putnbr_fd(ft_isalnum('A'), 1);\n",
    "\tft_putchar_fd('\\n', 1);\n",
    "\tft_putnbr_fd(ft_isalnum('F'), 1);\n",
    "\tft_putchar_fd('\\n', 1);\n",
    "\tft_putnbr_fd(ft_isalnum('1'), 1);\n",
    "\tft_putchar_fd('\\n', 1);\n",
    "\tft_putnbr_fd(ft_isalnum('5'), 1);\n",
    "\tft_putchar_fd('\\n', 1);\n",
    "\tft_putnbr_fd(ft_isalnum('x'), 1);\n",
    "\tft_putchar_fd('\\n', 1);\n",
    "\tft_putnbr_fd(ft_isalnum('\\n'), 1);\n",
    "\tft_putchar_fd('\\n', 1);\n",
    "}*/"
   ]
  },
  {
   "cell_type": "markdown",
   "id": "3d0574ff-d9b3-4420-b776-e0bbe4b3b1f3",
   "metadata": {},
   "source": [
    "**FT_ISTOUPPER.C**"
   ]
  },
  {
   "cell_type": "code",
   "execution_count": null,
   "id": "9101b6f2-4ddd-4797-80aa-e4c944599b36",
   "metadata": {},
   "outputs": [],
   "source": [
    "int\tft_toupper(int c)\n",
    "{\n",
    "\tif ('a' <= c && c <= 'z')\n",
    "\t\treturn (c - 32);\n",
    "\telse\n",
    "\t\treturn (c);\n",
    "}"
   ]
  },
  {
   "cell_type": "markdown",
   "id": "d697b3c9-605f-4cb1-8848-0b0b872a8394",
   "metadata": {},
   "source": [
    " La función `toupper` en C estándar se utiliza para convertir un carácter de minúscula a mayúscula si es una letra minúscula. Si el carácter no es una letra minúscula, devuelve el mismo carácter sin cambios.\n",
    "\n",
    "- **`int ft_toupper(int c)`:**\n",
    "   - Esta línea define la función `ft_toupper` que toma un entero `c` como argumento y devuelve un entero como resultado.\n",
    "\n",
    "- **`if ('a' <= c && c <= 'z')`:**\n",
    "   - Esta línea verifica si el valor de `c` corresponde a un carácter en minúscula ('a' a 'z').\n",
    "\n",
    "- **`return (c - 32);`:**\n",
    "   - Si `c` es un carácter minúscula, se resta 32 del valor ASCII de `c`. En el conjunto de caracteres ASCII, la diferencia entre una letra minúscula y su correspondiente letra mayúscula es 32. Por lo tanto, al restar 32 de la representación ASCII de una letra minúscula, se obtiene la representación ASCII de la letra mayúscula correspondiente.\n",
    "\n",
    "- **`else return (c);`:**\n",
    "   - Si `c` no es un carácter minúscula ('a' a 'z'), se devuelve `c` sin cambios, ya que no es necesario realizar ninguna conversión.\n",
    "\n",
    "En resumen, la función `ft_toupper` toma un carácter como entrada. Si el carácter es una letra minúscula, la función devuelve el mismo carácter en mayúscula; de lo contrario, devuelve el mismo carácter sin cambios. La lógica detrás del `return` se basa en las diferencias predefinidas en los valores ASCII de las letras mayúsculas y minúsculas."
   ]
  },
  {
   "cell_type": "code",
   "execution_count": null,
   "id": "4fa0dadc-5463-4ab5-b4c6-661f01df579b",
   "metadata": {},
   "outputs": [],
   "source": [
    "**ft_istolower.c**"
   ]
  },
  {
   "cell_type": "code",
   "execution_count": null,
   "id": "4bf6cb91-a160-4375-9d40-a979a9a15404",
   "metadata": {},
   "outputs": [],
   "source": []
  }
 ],
 "metadata": {
  "kernelspec": {
   "display_name": "C",
   "language": "c",
   "name": "c"
  },
  "language_info": {
   "file_extension": ".c",
   "mimetype": "text/plain",
   "name": "c"
  }
 },
 "nbformat": 4,
 "nbformat_minor": 5
}
