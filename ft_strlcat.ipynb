{
 "cells": [
  {
   "cell_type": "markdown",
   "id": "124a057c-753b-4449-9205-62c363cb3cd4",
   "metadata": {},
   "source": [
    "#nclude <string.h>\n",
    "#include <stdio.h>\n",
    "\n",
    "size_t  ft_strlcat(char *dst, const char *src, size_t dstsize)\n",
    "{\n",
    "    size_t c = 0;\n",
    "    size_t d = 0;\n",
    "\n",
    "    // Encuentra la longitud de la cadena de destino\n",
    "    while (dst[c] != '\\0' && c < dstsize)\n",
    "    while (src[d] != '\\0' && d < space_left - 1)\n",
    "    {\n",
    "        dst[c] = src[d];\n",
    "        c++;\n",
    "        d++;\n",
    "\n",
    "        if (c < dstsize)\n",
    "        dst[c] = '\\0';\n",
    "\n",
    "    return (c);\n",
    "}\n",
    "    char dst[] = \"World\";\n",
    "    printf(\"%zu\\n\", ft_strlcat(dst, src, 3));\n",
    "    return (0);\n",
    "\n",
    "Primero, echemos un vistazo al prototipo de la función `ft_strlcat`:\n",
    "size_t ft_strlcat(char *dst, const char *src, size_t dstsize);\n",
    "\n",
    "Ahora, vamos a analizar el código `ft_strlcat` y su funcionamiento paso a paso:\n",
    "\n",
    "    printf(\"%s\\n\", dst);\n",
    "    printf(\"%zu\\n\", strlcat(dst, src, 3));\n",
    "\n",
    "```\n",
    "    char dst[] = \"World\";\n",
    "    printf(\"%zu\\n\", ft_strlcat(dst, src, 3));\n",
    "    printf(\"%s\\n\", dst);\n",
    "    printf(\"%zu\\n\", strlcat(dst, src, 3));\n",
    "    printf(\"%s\\n\", dst);\n",
    "    return (0);\n",
    "}"
   ]
  },
  {
   "cell_type": "code",
   "execution_count": null,
   "id": "5f13d3b0-b830-4189-bc27-d8c02a29985a",
   "metadata": {},
   "outputs": [],
   "source": [
    "8\n",
    "WorHelloHello\n",
    "8\n",
    "WorHelloHello"
   ]
  },
  {
   "cell_type": "markdown",
   "id": "f447ac7d-ba3c-4c8d-b1e5-d2f0c6c177d3",
   "metadata": {},
   "source": [
    "size_t ft_strlcat(char *dst, const char *src, size_t dstsize);\n",
    "```\n",
    "- `const char *src`: Es un puntero a una cadena de origen (`src`) que se concatenará a la cadena de destino.\n",
    "\n",
    "Ahora, vamos a analizar el código `ft_strlcat` y su funcionamiento paso a paso:\n",
    "\n",
    "2. **`while (dst[c] != '\\0' && c < dstsize) c++;`**: Este bucle recorre la cadena de destino (`dst`) hasta encontrar el carácter nulo `'\\0'` o hasta alcanzar el tamaño máximo especificado por `dstsize`. Esto se hace para determinar la longitud actual de la cadena de destino.\n",
    "\n",
    "3. `size_t space_left = 0; if (c < dstsize) space_left = dstsize - c;`: Aquí se calcula cuánto espacio queda en el búfer de destino (`dst`). Si la longitud actual de `dst` (`c`) es menor que `dstsize`, se calcula cuánto espacio libre queda restando la longitud actual (`c`) de `dstsize`.\n",
    "\n",
    "4. `while (src[d] != '\\0' && d < space_left - 1)`: Este bucle copia caracteres de la cadena de origen (`src`) a la cadena de destino (`dst`) hasta que se cumpla alguna de las siguientes condiciones:\n",
    "   - Se encuentre el carácter nulo `'\\0'` en la cadena de origen (`src`).\n",
    "   - Se haya copiado la cantidad máxima posible de caracteres en función del espacio disponible (`space_left - 1`). Se resta 1 para asegurarse de dejar espacio para el carácter nulo final en `dst`.\n",
    "\n",
    "5. `dst[c] = '\\0';`: Después de copiar los caracteres, se asegura de que la cadena de destino tenga un carácter nulo `'\\0'` al final para que sea una cadena C válida.\n",
    "\n",
    "6. `size_t total_length = c + 0;`: Aquí se calcula la longitud total del resultado, que es la longitud actual de la cadena de destino (`c`) más la longitud de la cadena de origen restante (`0` ya que `d` es la longitud restante de `src`).\n",
    "\n",
    "7. La función finalmente devuelve `total_length`, que es la longitud total de la cadena resultante después de la concatenación.\n",
    "\n",
    "En el `main`, se utiliza este código para probar la función `ft_strlcat` al concatenar las cadenas \"World\" y \"Hello\" en el búfer de destino con un tamaño máximo de 3 caracteres. El resultado se imprime en la salida estándar para demostrar cómo funciona la función .\n",
    "\n",
    "Se utiliza `size_t`\n",
    "\n",
    "1. Tamaño de Datos:\n",
    "   `size_t` es un tipo de datos sin signo que se utiliza en C y C++ para representar el tamaño o la longitud de objetos, como arreglos, buffers o estructuras de datos. Está diseñado para ser capaz de representar la cantidad máxima de elementos que un sistema puede direccionar en su memoria. Es un tipo de datos apropiado para representar tamaños de datos porque no tiene signo y, por lo tanto, no puede representar valores negativos, lo que es apropiado para tamaños que no pueden ser negativos.\n",
    "\n",
    "2. Portabilidad y Compatibilidad:\n",
    "   `size_t` está definido en la biblioteca estándar de C y C++ (`<stddef.h>` en C y `<cstddef>` en C++), por lo que es ampliamente compatible y portátil entre diferentes sistemas y compiladores. Esto significa que puede confiar en `size_t` para representar tamaños de datos de manera consistente en diferentes plataformas.\n",
    "\n",
    "En el contexto de la función `ft_strlcat`, se utiliza `size_t` para representar el tamaño máximo del búfer de destino (`dstsize`) y para realizar un seguimiento de las longitudes y posiciones en las cadenas. Usar `size_t` garantiza que el código sea compatible y portátil y que pueda manejar tamaños de datos de manera confiable. /*"
   ]
  },
  {
   "cell_type": "code",
   "execution_count": null,
   "id": "21a797d0-5653-40f8-81bd-aee23621df44",
   "metadata": {},
   "outputs": [],
   "source": []
  }
 ],
 "metadata": {
  "kernelspec": {
   "display_name": "C",
   "language": "c",
   "name": "c"
  },
  "language_info": {
   "file_extension": ".c",
   "mimetype": "text/plain",
   "name": "c"
  }
 },
 "nbformat": 4,
 "nbformat_minor": 5
}
