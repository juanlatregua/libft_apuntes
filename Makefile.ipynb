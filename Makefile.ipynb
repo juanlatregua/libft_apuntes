{
 "cells": [
  {
   "cell_type": "code",
   "execution_count": null,
   "id": "30aaf770-26e2-46b9-9455-e8abcd70e4f0",
   "metadata": {},
   "outputs": [],
   "source": [
    "**Variables***:\n",
    "**CC** = cc: Define el compilador que se usará. En este caso, cc.\n",
    "**CFLAGS** = -Wall -Wextra -Werror: Estas son las banderas del compilador. -Wall habilita la mayoría de las advertencias, -Wextra habilita advertencias adicionales y -Werror trata las advertencias como errores.\n",
    "**NAME*** = libft.a: El nombre del archivo de la biblioteca estática que se generará.\n",
    "**SRCS**: La lista de archivos fuente para las funciones básicas.\n",
    "**BONUS_SRCS**: La lista de archivos fuente para las funciones de bonificación.\n",
    "**OBJS**: La lista de archivos objeto correspondientes a los archivos fuente básicos.\n",
    "**BONUS_OBJS**: La lista de archivos objeto correspondientes a los archivos fuente de bonificación."
   ]
  },
  {
   "cell_type": "code",
   "execution_count": null,
   "id": "6ad07743-d547-4963-996c-05e78e544424",
   "metadata": {},
   "outputs": [],
   "source": [
    "CC = cc\n",
    "CFLAGS = -Wall -Wextra -Werror\n",
    "NAME = libft.a\n",
    "SRCS = ft_isalpha.c ft_isdigit.c ft_isalnum.c ft_isascii.c ft_isprint.c ft_strlen.c ft_memset.c ft_bzero.c \n",
    "    ft_memcpy.c\\\n",
    "    ft_memmove.c ft_strlcpy.c ft_strlcat.c ft_toupper.c ft_tolower.c ft_strchr.c ft_strrchr.c ft_strncmp.c ft_memchr.c\\\n",
    "\tft_memcmp.c ft_strnstr.c ft_atoi.c ft_calloc.c ft_strdup.c ft_substr.c ft_strjoin.c ft_strtrim.c ft_split.c\\\n",
    "    ft_itoa.c ft_strmapi.c ft_striteri.c ft_putchar_fd.c ft_putstr_fd.c ft_putendl_fd.c ft_putnbr_fd.c\n",
    "BONUS_SRCS = ft_lstadd_back.c ft_lstadd_front.c ft_lstclear.c ft_lstdelone.c ft_lstiter.c ft_lstlast.c ft_lstmap.c\\\n",
    "\t\tft_lstnew.c ft_lstsize.c\n",
    "\n",
    "OBJS = $(SRCS:.c=.o)\n",
    "BONUS_OBJS = $(BONUS_SRCS:.c=.o)\n",
    "\n",
    "all: $(NAME)\n",
    "\n",
    "$(NAME): $(OBJS)\n",
    "\tar rc $(NAME) $(OBJS)\n",
    "\n",
    "bonus: $(OBJS) $(BONUS_OBJS)\n",
    "\tar rc $(NAME) $(BONUS_OBJS) $(OBJS)\n",
    "\n",
    "clean:\n",
    "\trm -rf $(OBJS) $(BONUS_OBJS)\n",
    "\n",
    "fclean: clean\n",
    "\trm -rf $(NAME)\n",
    "\n",
    "re: fclean all\n",
    "\n",
    "so:\n",
    "\t$(CC) -nostartfiles -fPIC $(CFLAGS) $(SRCS) $(BONUS_SRCS)\n",
    "\tgcc -nostartfiles -shared -o libft.so $(OBJS) $(BONUS_OBJS)"
   ]
  },
  {
   "cell_type": "code",
   "execution_count": null,
   "id": "c2199def-787a-4223-8f52-7724bf44fa9e",
   "metadata": {},
   "outputs": [],
   "source": [
    "**Objetivos**:\n",
    "**all**: Es el objetivo predeterminado. Cuando ejecutas make, este objetivo se ejecutará. **Compila la biblioteca estática libft.a usando los archivos fuente básicos**.\n",
    "**bonus**: Un objetivo adicional que compila tanto las funciones básicas como las funciones de bonificación y crea la biblioteca estática.\n",
    "**clean**: Elimina los archivos de objeto (*.o) generados durante la compilación.\n",
    "**fclean**: Ejecuta clean y además elimina el archivo de la biblioteca (libft.a) o cualquier otro archivo ejecutable que hayas creado.\n",
    "**re**: Ejecuta fclean y luego all, lo que significa que limpia todos los archivos y vuelve a compilar el proyecto desde cero.\n",
    "**so**: Crea una biblioteca compartida (libft.so) además de la biblioteca estática."
   ]
  },
  {
   "cell_type": "markdown",
   "id": "f88d4b9c-42de-442e-9d11-6845e9cbd5cd",
   "metadata": {},
   "source": [
    "El archivo `Makefile` que has proporcionado contiene instrucciones para compilar los archivos fuente de tu biblioteca `libft.a` y `libft.so` en diferentes formatos. Vamos a analizar cada parte del `Makefile`:\n",
    "\n",
    "### Variables:\n",
    "- `CC = cc`: Especifica el compilador que se utilizará, en este caso, `cc`.\n",
    "- `CFLAGS = -Wall -Wextra -Werror`: Son las opciones del compilador para activar ciertas advertencias y errores.\n",
    "- `NAME = libft.a`: Especifica el nombre del archivo de salida estático (`.a`).\n",
    "- `SRCS`: Lista de archivos fuente para las funciones básicas de la biblioteca.\n",
    "- `BONUS_SRCS`: Lista de archivos fuente para las funciones de bonificación.\n",
    "\n",
    "### Reglas del `Makefile`:\n",
    "1. **`all`:** Esta regla compila el archivo estático `libft.a`. Depende de los archivos objetos (`$(OBJS)`), que son los archivos compilados de las fuentes.\n",
    "2. **`$(NAME)`:** Esta regla crea el archivo estático `libft.a` utilizando el comando `ar`. Compila los archivos objetos (`$(OBJS)`) en un archivo estático.\n",
    "3. **`bonus`:** Esta regla compila el archivo estático `libft.a` con funciones de bonificación. Depende de los archivos objetos básicos (`$(OBJS)`) y los archivos objetos de bonificación (`$(BONUS_OBJS)`).\n",
    "4. **`clean`:** Elimina los archivos objetos (`.o`) y los archivos objetos de bonificación.\n",
    "5. **`fclean`:** Elimina los archivos objetos y el archivo estático `libft.a`.\n",
    "6. **`re`:** Es una combinación de `fclean` y `all`, es decir, primero limpia y luego vuelve a compilar todo.\n",
    "7. **`so`:** Esta regla compila la biblioteca como un archivo compartido (`libft.so`) además del archivo estático. Los archivos compilados (`$(OBJS) $(BONUS_OBJS)`) se enlazan en un archivo compartido.\n",
    "\n",
    "En resumen, este `Makefile` proporciona una forma conveniente de compilar y gestionar tu biblioteca `libft`. Puedes usar `make` seguido de los nombres de las reglas para ejecutar las acciones correspondientes. Por ejemplo, `make all` compilará solo el archivo estático, mientras que `make bonus` compilará tanto las funciones básicas como las funciones de bonificación."
   ]
  },
  {
   "cell_type": "code",
   "execution_count": null,
   "id": "9ee9339a-b6a4-478a-ac45-a2892d91cc4b",
   "metadata": {},
   "outputs": [],
   "source": [
    "OBJS = $(SRCS:.c=.o)\n",
    "BONUS_OBJS = $(BONUS_SRCS:.c=.o)\n",
    "Se están utilizando reglas de sustitución en un Makefile. \n",
    "\n",
    "$(SRCS:.c=.o): Esta expresión sustituye todas las extensiones .c en la lista de archivos fuente ($(SRCS)) \n",
    "por la extensión .o, que es el formato de archivo objeto. Por ejemplo, si $(SRCS) contiene file1.c file2.c, \n",
    "esta expresión se expandirá a file1.o file2.o.\n",
    "$(BONUS_SRCS:.c=.o): Similar a la anterior, esta expresión sustituye las extensiones .c en la lista de archivos \n",
    "fuente de bonificación ($(BONUS_SRCS)) por .o. Por ejemplo, si $(BONUS_SRCS) contiene bonus_file1.c bonus_file2.c,\n",
    "esta expresión se expandirá a bonus_file1.o bonus_file2.o.\n",
    "Entonces, después de estas líneas, las variables OBJS y BONUS_OBJS contienen las rutas a los archivos objeto \n",
    "correspondientes a los archivos fuente básicos y de bonificación, respectivamente. Estos archivos objeto son los \n",
    "que se utilizan durante la compilación para construir la biblioteca estática y la biblioteca compartida."
   ]
  },
  {
   "cell_type": "code",
   "execution_count": null,
   "id": "78d6f46e-7c4e-4dea-a77f-3cf871cdd739",
   "metadata": {},
   "outputs": [],
   "source": []
  }
 ],
 "metadata": {
  "kernelspec": {
   "display_name": "C",
   "language": "c",
   "name": "c"
  },
  "language_info": {
   "file_extension": ".c",
   "mimetype": "text/plain",
   "name": "c"
  }
 },
 "nbformat": 4,
 "nbformat_minor": 5
}
