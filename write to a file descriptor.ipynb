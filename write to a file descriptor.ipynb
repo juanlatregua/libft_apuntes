{
 "cells": [
  {
   "cell_type": "code",
   "execution_count": null,
   "id": "8b5ab3ff-6ae6-4558-8bca-2d064d5606be",
   "metadata": {},
   "outputs": [],
   "source": [
    "#### Write to a file descriptor:\n",
    "\n",
    "- [x] `ft_putchar_fd`\n",
    "- [x] `ft_putstr_fd`\n",
    "- [x] `ft_putendl_fd`\n",
    "- [x] `ft_putnbr_fd`"
   ]
  },
  {
   "cell_type": "markdown",
   "id": "fed3038b-5b76-4093-853c-157e24395270",
   "metadata": {},
   "source": [
    " todas funciones que escriben en un descriptor de archivo específico (file descriptor, en inglés) en el contexto de la biblioteca `libft`:\n",
    "\n",
    "1. **`ft_putchar_fd`:**\n",
    "   Esta función escribe un solo carácter en el descriptor de archivo especificado.\n",
    "\n",
    "   ```c\n",
    "   void ft_putchar_fd(char c, int fd);\n",
    "   ```\n",
    "\n",
    "2. **`ft_putstr_fd`:**\n",
    "   Esta función escribe una cadena de caracteres en el descriptor de archivo especificado.\n",
    "\n",
    "   ```c\n",
    "   void ft_putstr_fd(char *s, int fd);\n",
    "   ```\n",
    "\n",
    "3. **`ft_putendl_fd`:**\n",
    "   Esta función escribe una cadena de caracteres seguida de un carácter de nueva línea (`'\\n'`) en el descriptor de archivo especificado.\n",
    "\n",
    "   ```c\n",
    "   void ft_putendl_fd(char *s, int fd);\n",
    "   ```\n",
    "\n",
    "4. **`ft_putnbr_fd`:**\n",
    "   Esta función convierte un número entero en una cadena de caracteres y luego escribe esa cadena en el descriptor de archivo especificado.\n",
    "\n",
    "   ```c\n",
    "   void ft_putnbr_fd(int n, int fd);\n",
    "   ```\n",
    "\n",
    "Todas estas funciones son útiles para redirigir la salida estándar a un archivo específico en lugar de la consola. El argumento `fd` representa el descriptor de archivo al que se escribirá la salida. Un descriptor de archivo es un número entero que representa un archivo abierto, una conexión de red o algún otro flujo de datos. Estos números suelen ser proporcionados por el sistema operativo cuando se abre un archivo o se establece una conexión de red. Al especificar el descriptor de archivo como argumento, puedes dirigir la salida de estas funciones a un archivo en lugar de la consola estándar."
   ]
  },
  {
   "cell_type": "markdown",
   "id": "4cfe96d2-03e7-4ed6-8531-1ebdb4882dab",
   "metadata": {},
   "source": [
    "**ft_putchar_fd**"
   ]
  },
  {
   "cell_type": "code",
   "execution_count": null,
   "id": "e0ccd159-4e8f-487e-a573-957c4ef8b742",
   "metadata": {},
   "outputs": [],
   "source": [
    "include \"libft.h\"\n",
    "\n",
    "void\tft_putchar_fd(char c, int fd)\n",
    "{\n",
    "\twrite(fd, &c, 1);\n",
    "}"
   ]
  },
  {
   "cell_type": "markdown",
   "id": "c7105772-0880-442f-9fb0-d29a7388ca15",
   "metadata": {},
   "source": [
    "En la línea `ft_putchar_fd('0' + n, fd);`, se está utilizando `ft_putchar_fd` para escribir un solo carácter en el descriptor de archivo especificado (`fd`). Permíteme desglosar esta línea para una mejor comprensión:\n",
    "\n",
    "1. **`'0' + n`:**\n",
    "   - En esta parte, `n` es un número entero que representa un dígito del 0 al 9. `'0'` es el carácter que representa el dígito 0 en la tabla ASCII. Al sumar `n` al carácter `'0'`, estamos convirtiendo el valor numérico de `n` en su representación de carácter en la tabla ASCII. Por ejemplo, si `n` es `1`, `'0' + n` se evalúa a `'1'`.\n",
    "\n",
    "2. **`ft_putchar_fd('0' + n, fd);`:**\n",
    "   - `ft_putchar_fd` es una función que toma un solo carácter como argumento y lo escribe en el descriptor de archivo especificado (`fd`). En este caso, el carácter que se va a escribir es `'0' + n`, que es el dígito convertido en su representación de carácter.\n",
    "\n",
    "En resumen, `ft_putchar_fd('0' + n, fd);` toma un número entero `n` (que representa un dígito) y lo convierte en su representación de carácter utilizando `'0' + n`. Luego, este carácter se pasa como argumento a `ft_putchar_fd`, que es responsable de escribir ese carácter en el descriptor de archivo `fd`. De esta manera, se logra imprimir el dígito en el archivo o en la salida estándar, dependiendo del valor de `fd`."
   ]
  },
  {
   "cell_type": "code",
   "execution_count": null,
   "id": "2bcf8dd4-7843-43ef-9e4d-55696774f651",
   "metadata": {},
   "outputs": [],
   "source": [
    "}#include \"libft.h\"\n",
    "\n",
    "void\tft_putnbr_fd(int n, int fd)\n",
    "{\n",
    "\tif (n < 0)\n",
    "\t{\n",
    "\t\tif (n == -2147483648)\n",
    "\t\t{\n",
    "\t\t\tft_putstr_fd(\"-2147483648\", fd);\n",
    "\t\t\treturn ;\n",
    "\t\t}\n",
    "\t\tft_putchar_fd('-', fd);\n",
    "\t\tn = -n;\n",
    "\t}\n",
    "\tif (n / 10)\n",
    "\t{\n",
    "\t\tft_putnbr_fd(n / 10, fd);\n",
    "\t\tft_putnbr_fd(n % 10, fd);\n",
    "\t}\n",
    "\telse\n",
    "\t\tft_putchar_fd('0' + n, fd);\n",
    "}"
   ]
  },
  {
   "cell_type": "markdown",
   "id": "3392ae03-3ca0-4222-9b9a-033e37e4c8ce",
   "metadata": {},
   "source": [
    "La función `ft_putnbr_fd`  es una implementación **recursiva** para imprimir un número entero en un descriptor de archivo específico (`fd`). Permíteme explicarte cómo funciona paso a paso:\n",
    "\n",
    "1. **Manejo de Números Negativos:**\n",
    "   - Si `n` es negativo, se imprime un signo negativo (`'-'`) y luego `n` se convierte en su valor absoluto (`-n`). Esto se hace para manejar números negativos correctamente.\n",
    "\n",
    "2. **Manejo del Valor Mínimo de `int`:**\n",
    "   - Si `n` es igual a `-2147483648` (el valor mínimo representable por un `int` en sistemas de 32 bits), se imprime \"-2147483648\" directamente y la función retorna sin realizar más operaciones.\n",
    "\n",
    "3. **División Recursiva y Módulo:**\n",
    "   - La función `ft_putnbr_fd` se llama recursivamente dos veces: una vez con el cociente de `n` entre 10 y otra vez con el resto de `n` dividido por 10. Esto divide `n` en dos partes: los dígitos más significativos y el dígito menos significativo.\n",
    "   - La recursión continúa hasta que `n` se convierte en 0.\n",
    "   - Durante la recursión, los dígitos se manejan uno a la vez, empezando desde el dígito más significativo y terminando con el dígito menos significativo.\n",
    "\n",
    "4. **Impresión de los Dígitos:**\n",
    "   - Cuando `n` se reduce a un solo dígito (0-9), ese dígito se imprime usando `ft_putchar_fd('0' + n, fd)`. `'0' + n` convierte el número entero en el carácter correspondiente en la tabla ASCII.\n",
    "\n",
    "En resumen, esta función utiliza un enfoque recursivo para dividir el número en dígitos individuales y luego imprime cada dígito uno por uno en el descriptor de archivo especificado. La recursión permite manejar números con múltiples dígitos y garantiza que los dígitos se impriman en el orden correcto. Es una implementación clásica y efectiva para imprimir números enteros."
   ]
  },
  {
   "cell_type": "markdown",
   "id": "8a56b7ba-0fab-47bd-b81f-4e8f3484b9a6",
   "metadata": {},
   "source": [
    "Cuando hablamos de un \"archivo específico\" (`fd`), nos referimos a un descriptor de archivo que identifica un archivo o una conexión de entrada/salida en un programa en C. En el contexto de las funciones de entrada/salida (`read`, `write`, `open`, `close`, etc.), un descriptor de archivo es simplemente un número entero que representa un archivo abierto o una conexión de red.\n",
    "\n",
    "En C, los descriptores de archivo están numerados desde 0 hasta un valor específico (generalmente un límite superior definido por el sistema operativo). Los tres descriptores de archivo estándar son:\n",
    "\n",
    "- **0 (stdin):** Descriptor de archivo para la entrada estándar. Por defecto, representa el teclado.\n",
    "- **1 (stdout):** Descriptor de archivo para la salida estándar. Por defecto, representa la pantalla.\n",
    "- **2 (stderr):** Descriptor de archivo para la salida de error estándar. Por defecto, representa la pantalla y se utiliza para imprimir mensajes de error.\n",
    "\n",
    "Además de estos descriptores estándar, puedes abrir archivos o conexiones de red para obtener descriptores de archivo específicos. Por ejemplo, al usar la función `open` para abrir un archivo, obtienes un descriptor de archivo específico para ese archivo:\n",
    "\n",
    "```c\n",
    "#include <fcntl.h>\n",
    "\n",
    "int fd = open(\"archivo.txt\", O_WRONLY | O_CREAT);\n",
    "```\n",
    "\n",
    "En este caso, `fd` es un descriptor de archivo específico que representa el archivo `\"archivo.txt\"` en modo escritura (`O_WRONLY`) y se crea si no existe (`O_CREAT`).\n",
    "\n",
    "Puedes usar este descriptor de archivo específico (`fd`) en funciones como `write`, `read` y `close` para realizar operaciones de entrada/salida en el archivo asociado. Por ejemplo, para escribir en el archivo:\n",
    "\n",
    "```c\n",
    "write(fd, \"Hola, mundo!\", 12);\n",
    "```\n",
    "\n",
    "En este ejemplo, `write` utiliza el descriptor de archivo `fd` para escribir la cadena `\"Hola, mundo!\"` en el archivo asociado. Los descriptores de archivo específicos son una forma fundamental de interactuar con archivos y otros dispositivos de entrada/salida en programas en C."
   ]
  },
  {
   "cell_type": "markdown",
   "id": "57153af1-c6e6-4afb-8bbe-8361d51cdf8e",
   "metadata": {},
   "source": [
    "La función `void ft_putnbr_fd(int n, int fd)` está definida como de tipo `void` porque no devuelve ningún valor. En C y en muchos otros lenguajes de programación, el tipo de retorno de una función se especifica antes del nombre de la función y define qué tipo de valor puede devolver esa función cuando se invoca.\n",
    "\n",
    "En este caso específico, la función `ft_putnbr_fd` se utiliza para imprimir un número entero (`n`) en un descriptor de archivo específico (`fd`). La función no necesita devolver ningún valor, ya que su objetivo es realizar una acción (imprimir el número) en lugar de proporcionar un resultado que se almacene o se utilice en otros cálculos.\n",
    "\n",
    "Por lo tanto, se declara como `void` para indicar que la función no tiene un valor de retorno específico. La declaración `void` significa que la función no devuelve nada. Aquí está la estructura básica de la función:\n",
    "\n",
    "```c\n",
    "void ft_putnbr_fd(int n, int fd)\n",
    "{\n",
    "    // Código para imprimir el número n en el descriptor de archivo fd\n",
    "}\n",
    "```\n",
    "\n",
    "En este caso, la función realiza su tarea de impresión sin necesidad de devolver un valor, por lo que se define como `void`."
   ]
  },
  {
   "cell_type": "markdown",
   "id": "b3df35e8-24b1-456c-89b9-c8d58437b748",
   "metadata": {},
   "source": [
    "El uso de funciones personalizadas como `ft_putnbr_fd` y `ft_putchar_fd` tiene varias ventajas:\n",
    "\n",
    "1. **Abstracción y Modularidad:** Al utilizar funciones personalizadas, puedes abstraer la complejidad de ciertas operaciones y encapsular la lógica en funciones claramente definidas. Esto hace que tu código sea más modular y fácil de entender, mantener y depurar.\n",
    "\n",
    "2. **Reusabilidad:** Una vez que has implementado funciones personalizadas como `ft_putnbr_fd` y `ft_putchar_fd`, puedes reutilizarlas en múltiples partes de tu código o incluso en diferentes proyectos sin tener que reescribir la lógica cada vez. Esto ahorra tiempo y esfuerzo, ya que puedes aprovechar el trabajo que has hecho anteriormente.\n",
    "\n",
    "3. **Legibilidad del Código:** Al usar nombres de función significativos, como `ft_putnbr_fd`, el código se vuelve más legible y autodescriptivo. Esto facilita a otros programadores entender el propósito de las funciones sin tener que examinar su implementación.\n",
    "\n",
    "4. **Adaptabilidad:** Si necesitas cambiar la implementación interna de una función (por ejemplo, para mejorar la eficiencia o manejar casos especiales), puedes hacerlo sin afectar las partes del código que utilizan esa función. Esto se conoce como encapsulamiento y ayuda a mantener el código flexible y adaptable a futuros cambios.\n",
    "\n",
    "5. **Encapsulamiento de Detalles de Implementación:** Las funciones personalizadas permiten ocultar los detalles de implementación de ciertas operaciones. Por ejemplo, si decides cambiar cómo imprimes un número, solo necesitas modificar la implementación de `ft_putnbr_fd` en un solo lugar, en lugar de hacer cambios en todo el código donde se imprime un número.\n",
    "\n",
    "6. **Facilita las Pruebas Unitarias:** Al tener funciones pequeñas y específicas, es más fácil escribir pruebas unitarias para cada función por separado. Esto facilita la detección temprana de errores y contribuye a la robustez de tu código.\n",
    "\n",
    "En resumen, el uso de funciones personalizadas promueve un código más claro, mantenible, reutilizable y testeable, lo que mejora la eficiencia en el desarrollo y ayuda a evitar errores. Además, fomenta las mejores prácticas de programación como la modularidad y la abstracción, lo que hace que tu código sea más fácil de entender y colaborar con otros programadores."
   ]
  },
  {
   "cell_type": "code",
   "execution_count": null,
   "id": "e5c87151-03ad-47e5-b61b-dfe12dbe4f71",
   "metadata": {},
   "outputs": [],
   "source": [
    "#include \"libft.h\"\n",
    "\n",
    "void\tft_putstr_fd(char *s, int fd)\n",
    "{\n",
    "\tif (!s)\n",
    "\t\treturn ;\n",
    "\twrite(fd, s, ft_strlen(s));\n",
    "}"
   ]
  },
  {
   "cell_type": "markdown",
   "id": "88e0837f-d23a-4750-bb53-f547a13ea571",
   "metadata": {},
   "source": [
    "La función `ft_putstr_fd` que has proporcionado se utiliza para escribir una cadena de caracteres (`char *s`) en un descriptor de archivo específico (`int fd`). Permíteme explicar cada parte del código:\n",
    "\n",
    "1. **`#include \"libft.h\"`:**\n",
    "   - Esta línea incluye el archivo de encabezado `libft.h`, que probablemente contiene las declaraciones de las funciones y las definiciones de las estructuras de datos que se utilizan en tu biblioteca personalizada.\n",
    "\n",
    "2. **`void ft_putstr_fd(char *s, int fd)`:**\n",
    "   - Esta línea define la función `ft_putstr_fd`, que toma dos argumentos: un puntero a una cadena de caracteres (`char *s`) y un descriptor de archivo (`int fd`).\n",
    "\n",
    "3. **`if (!s) return;`:**\n",
    "   - Esta es una verificación de seguridad. Si el puntero `s` es `NULL` (es decir, si la cadena de entrada es un puntero nulo), la función simplemente retorna sin hacer nada. Esto previene que la función intente operar en una cadena de caracteres que no está inicializada y evita comportamientos inesperados o errores de segmentación.\n",
    "\n",
    "4. **`write(fd, s, ft_strlen(s));`:**\n",
    "   - Esta línea utiliza la función `write` del sistema para escribir la cadena `s` en el descriptor de archivo `fd`.\n",
    "   - `write` toma tres argumentos:\n",
    "     - `fd`: el descriptor de archivo donde se escribirán los datos.\n",
    "     - `s`: el puntero a la cadena de caracteres que se escribirá.\n",
    "     - `ft_strlen(s)`: el número de bytes que se escribirán. `ft_strlen(s)` devuelve la longitud de la cadena `s`.\n",
    "   - Por lo tanto, esta línea escribe la cadena `s` en el archivo representado por el descriptor de archivo `fd`.\n",
    "\n",
    "En resumen, `ft_putstr_fd` es una función que imprime una cadena de caracteres en un descriptor de archivo específico. Primero verifica si la cadena de entrada es `NULL` para evitar problemas con punteros nulos, y luego utiliza la función `write` para escribir la cadena en el archivo asociado con el descriptor de archivo proporcionado (`fd`)."
   ]
  },
  {
   "cell_type": "markdown",
   "id": "9831a28a-946d-490c-942d-e7dd1be13912",
   "metadata": {},
   "source": [
    "**ft_putendl_fd.c**\n",
    "    "
   ]
  },
  {
   "cell_type": "code",
   "execution_count": null,
   "id": "8a0ede21-ac1c-4b4c-bfc5-0eadffecff5a",
   "metadata": {},
   "outputs": [],
   "source": [
    "#include \"libft.h\"\n",
    "\n",
    "void\tft_putendl_fd(char *s, int fd)\n",
    "{\n",
    "\tft_putstr_fd(s, fd);\n",
    "\twrite(fd, \"\\n\", 1);\n",
    "}"
   ]
  },
  {
   "cell_type": "markdown",
   "id": "81451c4b-c84e-46d0-badc-69fd4c077f6c",
   "metadata": {},
   "source": [
    "La función `ft_putendl_fd` en la biblioteca `libft` es una función que escribe una cadena de caracteres seguida de un carácter de nueva línea (`'\\n'`) en el descriptor de archivo especificado. Aquí está el código que proporcionaste:\n",
    "\n",
    "```c\n",
    "#include \"libft.h\"\n",
    "\n",
    "void ft_putendl_fd(char *s, int fd)\n",
    "{\n",
    "    ft_putstr_fd(s, fd);\n",
    "    write(fd, \"\\n\", 1);\n",
    "}\n",
    "```\n",
    "\n",
    "En esta función:\n",
    "\n",
    "- `s`: Es el puntero a la cadena de caracteres que se escribirá en el descriptor de archivo.\n",
    "- `fd`: Es el descriptor de archivo donde se escribirá la cadena seguida de un salto de línea.\n",
    "\n",
    "Primero, la función `ft_putstr_fd` se utiliza para escribir la cadena `s` en el descriptor de archivo `fd`. Luego, se utiliza la función `write` para escribir un carácter de nueva línea (`'\\n'`) en el mismo descriptor de archivo.\n",
    "\n",
    "Esta función es útil cuando necesitas imprimir una cadena de caracteres seguida de un salto de línea en un archivo específico, en lugar de imprimirlo en la consola estándar. Puedes utilizar esta función para dirigir la salida de tu programa a un archivo específico, por ejemplo, cuando estás registrando el progreso o los resultados de tu programa en un archivo de registro."
   ]
  },
  {
   "cell_type": "markdown",
   "id": "b2faabc9-ef2c-4a0f-8d8c-a6b15b5da012",
   "metadata": {},
   "source": [
    "La función `write` es una función del sistema operativo que se encuentra en la biblioteca estándar de C y es utilizada para escribir datos en un descriptor de archivo específico. En sistemas operativos basados en Unix y sistemas similares, como Linux, macOS y otros sistemas tipo Unix, esta función está definida en la biblioteca del sistema (`libc`).\n",
    "\n",
    "La firma de la función `write` es la siguiente:\n",
    "\n",
    "```c\n",
    "ssize_t write(int fd, const void *buf, size_t count);\n",
    "```\n",
    "\n",
    "- `fd`: Es el descriptor de archivo donde se escribirán los datos.\n",
    "- `buf`: Es un puntero al búfer que contiene los datos que se escribirán en el archivo.\n",
    "- `count`: Es el número de bytes que se van a escribir en el archivo.\n",
    "\n",
    "`write` devuelve el número de bytes escritos en caso de éxito, o -1 si hay un error.\n",
    "\n",
    "En el contexto de la función `ft_putendl_fd` que proporcionaste, `write` se utiliza para escribir el carácter de nueva línea (`'\\n'`) en el descriptor de archivo especificado (`fd`)."
   ]
  },
  {
   "cell_type": "code",
   "execution_count": null,
   "id": "2b693e40-da01-4722-985c-cd96216729f4",
   "metadata": {},
   "outputs": [],
   "source": []
  }
 ],
 "metadata": {
  "kernelspec": {
   "display_name": "C",
   "language": "c",
   "name": "c"
  },
  "language_info": {
   "file_extension": ".c",
   "mimetype": "text/plain",
   "name": "c"
  }
 },
 "nbformat": 4,
 "nbformat_minor": 5
}
